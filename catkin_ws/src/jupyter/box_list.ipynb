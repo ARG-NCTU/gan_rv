{
 "cells": [
  {
   "cell_type": "code",
   "execution_count": 10,
   "metadata": {},
   "outputs": [],
   "source": [
    "import numpy as np\n",
    "import cv2\n",
    "from PIL import Image\n",
    "import matplotlib.pyplot as plt\n",
    "import os\n",
    "import random"
   ]
  },
  {
   "cell_type": "code",
   "execution_count": 11,
   "metadata": {},
   "outputs": [],
   "source": [
    "root = \"/media/arg_ws3/5E703E3A703E18EB/data/mm_unity/\"\n",
    "txt_root = \"/media/arg_ws3/5E703E3A703E18EB/data/mm_unity/main/\""
   ]
  },
  {
   "cell_type": "markdown",
   "metadata": {},
   "source": [
    "# Create real box list"
   ]
  },
  {
   "cell_type": "code",
   "execution_count": 14,
   "metadata": {},
   "outputs": [],
   "source": [
    "file_list = os.listdir(root + \"real_boxes\")\n",
    "\n",
    "real_train_txt = open(os.path.join(txt_root, \"real_train.txt\"), \"w\")\n",
    "real_test_txt = open(os.path.join(txt_root, \"real_test.txt\"), \"w\")\n",
    "\n",
    "pick_list = []\n",
    "cnt = 0\n",
    "ratio = 0.9\n",
    "\n",
    "while cnt < len(file_list):\n",
    "    idx = random.randint(0, len(file_list)-1)\n",
    "    if idx in pick_list:\n",
    "        continue\n",
    "    pick_list.append(idx)\n",
    "    \n",
    "    if cnt < len(file_list)*ratio:\n",
    "        real_train_txt.write(file_list[idx] + '\\n')\n",
    "    else:\n",
    "        real_test_txt.write(file_list[idx] + '\\n')\n",
    "    cnt = cnt + 1\n",
    "        \n",
    "real_train_txt.close()\n",
    "real_test_txt.close()"
   ]
  },
  {
   "cell_type": "markdown",
   "metadata": {},
   "source": [
    "# Create unity box list"
   ]
  },
  {
   "cell_type": "code",
   "execution_count": 20,
   "metadata": {},
   "outputs": [],
   "source": [
    "file_list = []\n",
    "for dirPath, dirNames, fileNames in os.walk(root + \"unity_boxes\"):\n",
    "    for f in fileNames:\n",
    "        path = os.path.join(dirPath, f)\n",
    "        if '_original.png' in path:\n",
    "            file_list.append(path)\n",
    "\n",
    "unity_train_txt = open(os.path.join(txt_root, \"unity_train.txt\"), \"w\")\n",
    "unity_test_txt = open(os.path.join(txt_root, \"unity_test.txt\"), \"w\")\n",
    "\n",
    "pick_list = []\n",
    "cnt = 0\n",
    "ratio = 0.9\n",
    "\n",
    "while cnt < len(file_list):\n",
    "    idx = random.randint(0, len(file_list)-1)\n",
    "    if idx in pick_list:\n",
    "        continue\n",
    "    pick_list.append(idx)\n",
    "    \n",
    "    file_ = file_list[idx][len(root+\"unity_boxes/\"):]\n",
    "    \n",
    "    if cnt < len(file_list)*ratio:\n",
    "        unity_train_txt.write(file_ + '\\n')\n",
    "    else:\n",
    "        unity_test_txt.write(file_ + '\\n')\n",
    "    cnt = cnt + 1\n",
    "        \n",
    "unity_train_txt.close()\n",
    "unity_test_txt.close()"
   ]
  },
  {
   "cell_type": "code",
   "execution_count": null,
   "metadata": {},
   "outputs": [],
   "source": []
  }
 ],
 "metadata": {
  "kernelspec": {
   "display_name": "Python 3",
   "language": "python",
   "name": "python3"
  },
  "language_info": {
   "codemirror_mode": {
    "name": "ipython",
    "version": 3
   },
   "file_extension": ".py",
   "mimetype": "text/x-python",
   "name": "python",
   "nbconvert_exporter": "python",
   "pygments_lexer": "ipython3",
   "version": "3.5.2"
  }
 },
 "nbformat": 4,
 "nbformat_minor": 2
}
