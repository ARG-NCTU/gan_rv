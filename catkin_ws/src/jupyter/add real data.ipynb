{
 "cells": [
  {
   "cell_type": "code",
   "execution_count": 1,
   "metadata": {},
   "outputs": [],
   "source": [
    "import os\n",
    "import cv2\n",
    "from shutil import copyfile\n",
    "import matplotlib.pyplot as plt\n",
    "import csv\n",
    "import random\n",
    "import cv2\n",
    "import numpy as np\n",
    "from PIL import Image"
   ]
  },
  {
   "cell_type": "code",
   "execution_count": 2,
   "metadata": {},
   "outputs": [],
   "source": [
    "real_img_root = \"/media/arg_ws3/5E703E3A703E18EB/data/mm_FCN/real/image\"\n",
    "real_mask_root = \"/media/arg_ws3/5E703E3A703E18EB/data/mm_FCN/real/mask\"\n",
    "origin_image_root = \"/media/arg_ws3/5E703E3A703E18EB/data/mm_FCN/box_gan/image\"\n",
    "target_root = \"/media/arg_ws3/5E703E3A703E18EB/data/mm_FCN/box_gan/\"\n",
    "target_img_root = \"/media/arg_ws3/5E703E3A703E18EB/data/mm_FCN/box_gan/real_image\"\n",
    "traget_mask_root = \"/media/arg_ws3/5E703E3A703E18EB/data/mm_FCN/box_gan/real_mask\""
   ]
  },
  {
   "cell_type": "code",
   "execution_count": 3,
   "metadata": {},
   "outputs": [],
   "source": [
    "img_list = os.listdir(real_img_root)\n",
    "random.shuffle(img_list)\n",
    "origin_list = os.listdir(origin_image_root)\n",
    "origin_len = len(origin_list)"
   ]
  },
  {
   "cell_type": "code",
   "execution_count": 4,
   "metadata": {},
   "outputs": [],
   "source": [
    "ratio = 0.03\n",
    "target_num = int(origin_len*ratio/(1.-ratio))\n",
    "target_train_num = int(0.9*target_num)\n",
    "target_test_num = target_num - target_train_num"
   ]
  },
  {
   "cell_type": "code",
   "execution_count": 5,
   "metadata": {},
   "outputs": [
    {
     "name": "stdout",
     "output_type": "stream",
     "text": [
      "1908\n"
     ]
    }
   ],
   "source": [
    "print(target_train_num)"
   ]
  },
  {
   "cell_type": "code",
   "execution_count": 6,
   "metadata": {},
   "outputs": [],
   "source": [
    "target_train_list = img_list[:target_train_num]\n",
    "target_test_list = img_list[target_train_num:target_train_num + target_test_num]"
   ]
  },
  {
   "cell_type": "code",
   "execution_count": 7,
   "metadata": {},
   "outputs": [
    {
     "data": {
      "text/plain": [
       "'/media/arg_ws3/5E703E3A703E18EB/data/mm_FCN/box_gan/test_0.03_real.csv'"
      ]
     },
     "execution_count": 7,
     "metadata": {},
     "output_type": "execute_result"
    }
   ],
   "source": [
    "copyfile(target_root+\"train_with_box_all.csv\", target_root+\"train_0.03_real.csv\")\n",
    "copyfile(target_root+\"test_with_box_all.csv\", target_root+\"test_0.03_real.csv\")"
   ]
  },
  {
   "cell_type": "code",
   "execution_count": 8,
   "metadata": {},
   "outputs": [],
   "source": [
    "with open(target_root + \"train_0.03_real.csv\",\"a+\") as csvfile:\n",
    "    for target in target_train_list:\n",
    "        writer = csv.writer(csvfile)\n",
    "        writer.writerow([\"real_image/\" + target, \"real_mask/\" + target.split('.jpg')[0]+'.png'])"
   ]
  },
  {
   "cell_type": "code",
   "execution_count": 9,
   "metadata": {},
   "outputs": [],
   "source": [
    "with open(target_root + \"test_0.03_real.csv\",\"a+\") as csvfile:\n",
    "    for target in target_test_list:\n",
    "        writer = csv.writer(csvfile)\n",
    "        writer.writerow([\"real_image/\" + target, \"real_mask/\" + target.split('.jpg')[0]+'.png'])"
   ]
  },
  {
   "cell_type": "code",
   "execution_count": null,
   "metadata": {},
   "outputs": [],
   "source": []
  }
 ],
 "metadata": {
  "kernelspec": {
   "display_name": "Python 3",
   "language": "python",
   "name": "python3"
  },
  "language_info": {
   "codemirror_mode": {
    "name": "ipython",
    "version": 3
   },
   "file_extension": ".py",
   "mimetype": "text/x-python",
   "name": "python",
   "nbconvert_exporter": "python",
   "pygments_lexer": "ipython3",
   "version": "3.5.2"
  }
 },
 "nbformat": 4,
 "nbformat_minor": 2
}
