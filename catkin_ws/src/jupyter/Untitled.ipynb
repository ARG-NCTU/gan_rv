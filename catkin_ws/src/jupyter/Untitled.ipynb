{
 "cells": [
  {
   "cell_type": "code",
   "execution_count": 1,
   "metadata": {},
   "outputs": [],
   "source": [
    "import numpy as np\n",
    "from PIL import Image\n",
    "import cv2\n",
    "import torch\n",
    "import torch.nn as nn\n",
    "import torch.nn.functional as F\n",
    "import torchvision.transforms as transforms"
   ]
  },
  {
   "cell_type": "code",
   "execution_count": 8,
   "metadata": {},
   "outputs": [],
   "source": [
    "img_A = Image.open('/media/arg_ws3/5E703E3A703E18EB/data/mm_unity/real_boxes/dark_0015.jpg')\n",
    "img_B = Image.open('/media/arg_ws3/5E703E3A703E18EB/data/mm_unity/real_boxes/dark_0013.jpg')\n",
    "img_C = Image.open('/media/arg_ws3/5E703E3A703E18EB/data/mm_unity/real_boxes/dark_0065.jpg')\n",
    "\n",
    "tf = transforms.Compose([transforms.ToTensor(), transforms.Normalize((0.5,0.5,0.5), (0.5,0.5,0.5))])\n",
    "img_A = tf(img_A)\n",
    "img_B = tf(img_B)\n",
    "img_C = tf(img_C)"
   ]
  },
  {
   "cell_type": "code",
   "execution_count": 29,
   "metadata": {},
   "outputs": [
    {
     "data": {
      "text/plain": [
       "torch.Size([3, 480, 640])"
      ]
     },
     "execution_count": 29,
     "metadata": {},
     "output_type": "execute_result"
    }
   ],
   "source": [
    "img_C.size()"
   ]
  },
  {
   "cell_type": "code",
   "execution_count": 34,
   "metadata": {},
   "outputs": [
    {
     "name": "stdout",
     "output_type": "stream",
     "text": [
      "torch.Size([2, 2])\n",
      "tensor(5.)\n"
     ]
    },
    {
     "data": {
      "text/plain": [
       "tensor(0.)"
      ]
     },
     "execution_count": 34,
     "metadata": {},
     "output_type": "execute_result"
    }
   ],
   "source": [
    "a = torch.tensor([[1,2],[8,9]]).float()\n",
    "print(a.size())\n",
    "print(a.mean())\n",
    "(a-a.mean()).mean()"
   ]
  },
  {
   "cell_type": "code",
   "execution_count": 40,
   "metadata": {},
   "outputs": [],
   "source": [
    "class MaskedMSELoss(nn.Module):\n",
    "    def __init__(self):\n",
    "        super(MaskedMSELoss, self).__init__()\n",
    "\n",
    "    def forward(self, pred, target):\n",
    "        assert pred.dim() == target.dim(), \"inconsistent dimensions\"\n",
    "        pred_mean = pred.detach()\n",
    "        target_mean = target.detach()\n",
    "        for i in range(pred.size()[0]):\n",
    "            pred_mean[i] = pred[i] - pred[i].mean()\n",
    "            target_mean[i] = target_mean[i] - target_mean.mean()\n",
    "        diff = target_mean - pred_mean\n",
    "        self.loss = (diff ** 2).mean()\n",
    "        return self.loss"
   ]
  },
  {
   "cell_type": "code",
   "execution_count": 41,
   "metadata": {},
   "outputs": [
    {
     "name": "stdout",
     "output_type": "stream",
     "text": [
      "tensor(0.1919)\n",
      "tensor(0.4069)\n"
     ]
    }
   ],
   "source": [
    "criterion = MaskedMSELoss()\n",
    "print(criterion(img_A, img_B))\n",
    "print(criterion(img_A, img_C))"
   ]
  },
  {
   "cell_type": "code",
   "execution_count": null,
   "metadata": {},
   "outputs": [],
   "source": [
    "rt = \"/media/arg_ws3/5E703E3A703E18EB/data/mm_FCN/unity/mask\"\n"
   ]
  }
 ],
 "metadata": {
  "kernelspec": {
   "display_name": "Python 3",
   "language": "python",
   "name": "python3"
  },
  "language_info": {
   "codemirror_mode": {
    "name": "ipython",
    "version": 3
   },
   "file_extension": ".py",
   "mimetype": "text/x-python",
   "name": "python",
   "nbconvert_exporter": "python",
   "pygments_lexer": "ipython3",
   "version": "3.5.2"
  }
 },
 "nbformat": 4,
 "nbformat_minor": 2
}
