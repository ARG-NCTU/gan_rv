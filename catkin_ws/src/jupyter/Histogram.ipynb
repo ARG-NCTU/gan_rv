{
 "cells": [
  {
   "cell_type": "code",
   "execution_count": 127,
   "metadata": {},
   "outputs": [],
   "source": [
    "import os\n",
    "import cv2\n",
    "from shutil import copyfile\n",
    "import matplotlib.pyplot as plt\n",
    "import csv\n",
    "import random\n",
    "import cv2\n",
    "import numpy as np\n",
    "from skimage import data\n",
    "from skimage import exposure\n",
    "from skimage.transform import match_histograms"
   ]
  },
  {
   "cell_type": "code",
   "execution_count": 128,
   "metadata": {},
   "outputs": [],
   "source": [
    "root = \"/media/arg_ws3/5E703E3A703E18EB/data/mm_FCN/histogram/image/\"\n",
    "image_root = \"/media/arg_ws3/5E703E3A703E18EB/data/mm_FCN/unity/image/\"\n",
    "mask_root = \"/media/arg_ws3/5E703E3A703E18EB/data/mm_FCN/unity/mask/\"\n",
    "box_root = \"/media/arg_ws3/5E703E3A703E18EB/data/mm_FCN/unity/box/\"\n",
    "realbox_root = \"/media/arg_ws3/5E703E3A703E18EB/data/mm_unity/real_boxes/\"\n",
    "realbox_list = os.listdir(realbox_root)\n",
    "box_list = os.listdir(box_root)"
   ]
  },
  {
   "cell_type": "code",
   "execution_count": 129,
   "metadata": {},
   "outputs": [],
   "source": [
    "for box in box_list:\n",
    "    mask_name = box.split('_original.png')[0] + '_seg.png'\n",
    "    fake_img = cv2.imread(os.path.join(box_root, box))\n",
    "    real_img = cv2.imread(os.path.join(realbox_root, realbox_list[random.randint(0,len(realbox_list)-1)]))\n",
    "    matched = match_histograms(fake_img, real_img, multichannel=True)\n",
    "    image = cv2.imread(os.path.join(image_root, box))\n",
    "    mask_img = cv2.imread(os.path.join(mask_root, mask_name), 0)\n",
    "    mask_img[mask_img > 0] = 255\n",
    "    mask = cv2.cvtColor(mask_img, cv2.COLOR_GRAY2RGB)\n",
    "    matched = cv2.bitwise_and(matched, mask, mask=mask_img)\n",
    "    mask_img[mask_img < 255] = 1\n",
    "    mask_img[mask_img == 255] = 0\n",
    "    mask_img[mask_img == 1] = 255\n",
    "    mask = cv2.cvtColor(mask_img, cv2.COLOR_GRAY2RGB)\n",
    "    image = cv2.bitwise_and(image, mask, mask=mask_img)\n",
    "    result = cv2.add(matched, image)\n",
    "    cv2.imwrite(os.path.join(root, box), result)"
   ]
  }
 ],
 "metadata": {
  "kernelspec": {
   "display_name": "Python 3",
   "language": "python",
   "name": "python3"
  },
  "language_info": {
   "codemirror_mode": {
    "name": "ipython",
    "version": 3
   },
   "file_extension": ".py",
   "mimetype": "text/x-python",
   "name": "python",
   "nbconvert_exporter": "python",
   "pygments_lexer": "ipython3",
   "version": "3.5.2"
  }
 },
 "nbformat": 4,
 "nbformat_minor": 2
}
