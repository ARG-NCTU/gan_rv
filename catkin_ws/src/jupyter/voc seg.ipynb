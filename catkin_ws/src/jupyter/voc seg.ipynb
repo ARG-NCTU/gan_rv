{
 "cells": [
  {
   "cell_type": "code",
   "execution_count": 1,
   "metadata": {},
   "outputs": [],
   "source": [
    "import cv2\n",
    "import os\n",
    "import numpy as np\n",
    "from PIL import Image\n",
    "from shutil import copyfile\n",
    "import random"
   ]
  },
  {
   "cell_type": "code",
   "execution_count": 8,
   "metadata": {},
   "outputs": [
    {
     "name": "stdout",
     "output_type": "stream",
     "text": [
      "632\n",
      "2913\n"
     ]
    }
   ],
   "source": [
    "trainval_2007 = []\n",
    "for line in open('/media/arg_ws3/5E703E3A703E18EB/data/VOCdevkit/VOC2007/ImageSets/Segmentation/trainval.txt'):\n",
    "    trainval_2007.append(line.strip())\n",
    "test_2007 = []\n",
    "for line in open('/media/arg_ws3/5E703E3A703E18EB/data/VOCdevkit/VOC2007/ImageSets/Segmentation/test.txt'):\n",
    "    test_2007.append(line.strip())\n",
    "all_2007 = trainval_2007 + test_2007\n",
    "print(len(all_2007))\n",
    "\n",
    "trainval_2012 = []\n",
    "for line in open('/media/arg_ws3/5E703E3A703E18EB/data/VOCdevkit/VOC2012/ImageSets/Segmentation/trainval.txt'):\n",
    "    trainval_2012.append(line.strip())\n",
    "test_2012 = []\n",
    "all_2012 = trainval_2012\n",
    "print(len(all_2012))"
   ]
  },
  {
   "cell_type": "code",
   "execution_count": 9,
   "metadata": {},
   "outputs": [
    {
     "name": "stdout",
     "output_type": "stream",
     "text": [
      "4015\n",
      "4087\n"
     ]
    }
   ],
   "source": [
    "person_2007_trainval = []\n",
    "for line in open('/media/arg_ws3/5E703E3A703E18EB/data/VOCdevkit/VOC2007/ImageSets/Main/person_trainval.txt'):\n",
    "    data = line.strip().split()\n",
    "    if data[1] == '1':\n",
    "        person_2007_trainval.append(data[0])\n",
    "person_2007_test = []\n",
    "for line in open('/media/arg_ws3/5E703E3A703E18EB/data/VOCdevkit/VOC2007/ImageSets/Main/person_test.txt'):\n",
    "    data = line.strip().split()\n",
    "    if data[1] == '1':\n",
    "        person_2007_test.append(data[0])\n",
    "person_2007 = person_2007_trainval + person_2007_test\n",
    "print(len(person_2007))\n",
    "\n",
    "person_2012_trainval = []\n",
    "for line in open('/media/arg_ws3/5E703E3A703E18EB/data/VOCdevkit/VOC2012/ImageSets/Main/person_trainval.txt'):\n",
    "    data = line.strip().split()\n",
    "    if data[1] == '1':\n",
    "        person_2012_trainval.append(data[0])\n",
    "person_2012 = person_2012_trainval\n",
    "print(len(person_2012))"
   ]
  },
  {
   "cell_type": "code",
   "execution_count": 15,
   "metadata": {},
   "outputs": [
    {
     "data": {
      "text/plain": [
       "250"
      ]
     },
     "execution_count": 15,
     "metadata": {},
     "output_type": "execute_result"
    }
   ],
   "source": [
    "root = '/media/arg_ws3/5E703E3A703E18EB/data/person_seg/'\n",
    "file = open(root + \"all_2007.txt\", \"w\")\n",
    "seg_2007 = []\n",
    "for seg in all_2007:\n",
    "    if seg in person_2007:\n",
    "        seg_2007.append(seg)\n",
    "        file.write(str(seg)+'\\n')\n",
    "file.close()\n",
    "len(seg_2007)"
   ]
  },
  {
   "cell_type": "code",
   "execution_count": 16,
   "metadata": {},
   "outputs": [
    {
     "data": {
      "text/plain": [
       "587"
      ]
     },
     "execution_count": 16,
     "metadata": {},
     "output_type": "execute_result"
    }
   ],
   "source": [
    "root = '/media/arg_ws3/5E703E3A703E18EB/data/person_seg/'\n",
    "file = open(root + \"all_2012.txt\", \"w\")\n",
    "seg_2012 = []\n",
    "for seg in all_2012:\n",
    "    if seg in person_2012:\n",
    "        seg_2012.append(seg)\n",
    "        file.write(str(seg)+'\\n')\n",
    "file.close()\n",
    "len(seg_2012)"
   ]
  },
  {
   "cell_type": "code",
   "execution_count": 18,
   "metadata": {},
   "outputs": [],
   "source": [
    "src_img_root = '/media/arg_ws3/5E703E3A703E18EB/data/VOCdevkit/VOC2007/JPEGImages/'\n",
    "src_mask_root = '/media/arg_ws3/5E703E3A703E18EB/data/VOCdevkit/VOC2007/SegmentationClass/'\n",
    "image_root = '/media/arg_ws3/5E703E3A703E18EB/data/person_seg/image/'\n",
    "mask_root = '/media/arg_ws3/5E703E3A703E18EB/data/person_seg/mask/'\n",
    "for seg in seg_2007:\n",
    "    copyfile(src_img_root + seg + '.jpg', image_root + '2007_' + seg + '.jpg')\n",
    "    copyfile(src_mask_root + seg + '.png', mask_root + '2007_' + seg + '.png')"
   ]
  },
  {
   "cell_type": "code",
   "execution_count": 19,
   "metadata": {},
   "outputs": [],
   "source": [
    "src_img_root = '/media/arg_ws3/5E703E3A703E18EB/data/VOCdevkit/VOC2012/JPEGImages/'\n",
    "src_mask_root = '/media/arg_ws3/5E703E3A703E18EB/data/VOCdevkit/VOC2012/SegmentationClass/'\n",
    "image_root = '/media/arg_ws3/5E703E3A703E18EB/data/person_seg/image/'\n",
    "mask_root = '/media/arg_ws3/5E703E3A703E18EB/data/person_seg/mask/'\n",
    "for seg in seg_2012:\n",
    "    copyfile(src_img_root + seg + '.jpg', image_root + seg + '.jpg')\n",
    "    copyfile(src_mask_root + seg + '.png', mask_root + seg + '.png')"
   ]
  },
  {
   "cell_type": "markdown",
   "metadata": {},
   "source": [
    "# VOC Mask to Binary Mask"
   ]
  },
  {
   "cell_type": "code",
   "execution_count": 33,
   "metadata": {},
   "outputs": [],
   "source": [
    "mask_voc_root = '/media/arg_ws3/5E703E3A703E18EB/data/person_seg/mask_voc/'\n",
    "mask_root = '/media/arg_ws3/5E703E3A703E18EB/data/person_seg/mask/'\n",
    "mask_voc_list = os.listdir(mask_voc_root)\n",
    "for img_name in mask_voc_list:\n",
    "    img = Image.open(mask_voc_root + img_name)\n",
    "    img = cv2.cvtColor(np.asarray(img),cv2.COLOR_RGB2BGR)  \n",
    "    mask_img = np.zeros(img.shape[:2], np.uint8)\n",
    "    for i in range(img.shape[0]):\n",
    "        for j in range(img.shape[1]):\n",
    "            value = [img[i][j][0], img[i][j][1], img[i][j][2]]\n",
    "            if value == [15, 15, 15]:\n",
    "                mask_img[i][j] = 255\n",
    "    cv2.imwrite(mask_root + img_name, mask_img)"
   ]
  },
  {
   "cell_type": "markdown",
   "metadata": {},
   "source": [
    "# Annotation file"
   ]
  },
  {
   "cell_type": "code",
   "execution_count": 34,
   "metadata": {},
   "outputs": [],
   "source": [
    "ann_root = '/media/arg_ws3/5E703E3A703E18EB/data/person_seg/annotations/'\n",
    "ann_2007 = '/media/arg_ws3/5E703E3A703E18EB/data/VOCdevkit/VOC2007/Annotations/'\n",
    "for seg in seg_2007:\n",
    "    copyfile(ann_2007 + seg + '.xml', ann_root + '2007_' + seg + '.xml')"
   ]
  },
  {
   "cell_type": "code",
   "execution_count": 36,
   "metadata": {},
   "outputs": [],
   "source": [
    "ann_root = '/media/arg_ws3/5E703E3A703E18EB/data/person_seg/annotations/'\n",
    "ann_2012 = '/media/arg_ws3/5E703E3A703E18EB/data/VOCdevkit/VOC2012/Annotations/'\n",
    "for seg in seg_2012:\n",
    "    copyfile(ann_2012 + seg + '.xml', ann_root + seg + '.xml')"
   ]
  },
  {
   "cell_type": "markdown",
   "metadata": {},
   "source": [
    "# Trainval file"
   ]
  },
  {
   "cell_type": "code",
   "execution_count": 5,
   "metadata": {},
   "outputs": [],
   "source": [
    "root = '/media/arg_ws3/5E703E3A703E18EB/data/person_seg/'\n",
    "ann_root = '/media/arg_ws3/5E703E3A703E18EB/data/person_seg/annotations/'\n",
    "file_list = os.listdir(ann_root)\n",
    "all_file = open(root + \"all.txt\", \"w\")\n",
    "train_file = open(root + \"train.txt\", \"w\")\n",
    "test_file = open(root + \"val.txt\", \"w\")\n",
    "ratio = 0.9\n",
    "count = 0\n",
    "pick = []\n",
    "while count < len(file_list):\n",
    "    idx = random.randint(0, len(file_list)-1)\n",
    "    if idx in pick:\n",
    "        continue\n",
    "    pick.append(idx)\n",
    "    all_file.write(file_list[idx]+'\\n')\n",
    "    if count < len(file_list)*ratio:\n",
    "        train_file.write(file_list[idx][:-4]+'\\n')\n",
    "    else:\n",
    "        test_file.write(file_list[idx][:-4]+'\\n')   \n",
    "    count = count + 1\n",
    "all_file.close()\n",
    "train_file.close()\n",
    "test_file.close()"
   ]
  }
 ],
 "metadata": {
  "kernelspec": {
   "display_name": "Python 3",
   "language": "python",
   "name": "python3"
  },
  "language_info": {
   "codemirror_mode": {
    "name": "ipython",
    "version": 3
   },
   "file_extension": ".py",
   "mimetype": "text/x-python",
   "name": "python",
   "nbconvert_exporter": "python",
   "pygments_lexer": "ipython3",
   "version": "3.5.2"
  }
 },
 "nbformat": 4,
 "nbformat_minor": 2
}
