{
 "cells": [
  {
   "cell_type": "code",
   "execution_count": 1,
   "metadata": {},
   "outputs": [],
   "source": [
    "import os\n",
    "import cv2\n",
    "from shutil import copyfile\n",
    "import matplotlib.pyplot as plt\n",
    "import csv\n",
    "import random"
   ]
  },
  {
   "cell_type": "code",
   "execution_count": 2,
   "metadata": {},
   "outputs": [],
   "source": [
    "root = \"/media/arg_ws3/5E703E3A703E18EB/data/mm_unity_new/objects/\"\n",
    "box_root = \"/media/arg_ws3/5E703E3A703E18EB/data/mm_unity_new/unity_boxes/\"\n",
    "fcn_root = \"/media/arg_ws3/5E703E3A703E18EB/data/mm_FCN/unity/\"\n",
    "obj_list = os.listdir(root)"
   ]
  },
  {
   "cell_type": "code",
   "execution_count": 6,
   "metadata": {},
   "outputs": [
    {
     "data": {
      "text/plain": [
       "['box_108', 'box_116', 'box_72']"
      ]
     },
     "execution_count": 6,
     "metadata": {},
     "output_type": "execute_result"
    }
   ],
   "source": [
    "os.listdir(box_root)"
   ]
  },
  {
   "cell_type": "code",
   "execution_count": 179,
   "metadata": {},
   "outputs": [
    {
     "name": "stdout",
     "output_type": "stream",
     "text": [
      "3m_116\n",
      "andes_108\n",
      "cocacola_116\n",
      "crayola_108\n",
      "folgers_116\n",
      "heineken_116\n",
      "hunts_116\n",
      "kellogg_108\n",
      "kleenex_108\n",
      "kotex_108\n",
      "libava_72\n",
      "macadamia_108\n",
      "milo_108\n",
      "mm_72\n",
      "pocky_108\n",
      "raisins_108\n",
      "stax_116\n",
      "swiss_miss_108\n",
      "vanish_116\n",
      "viva_116\n"
     ]
    }
   ],
   "source": [
    "for obj in obj_list:\n",
    "    print(obj)\n",
    "    box_type = None\n",
    "    if '72' in obj:\n",
    "        box_type = 'box_72'\n",
    "    elif '108' in obj:\n",
    "        box_type = 'box_108'\n",
    "    elif '116' in obj:\n",
    "        box_type = 'box_116'\n",
    "    scene_list = os.listdir(os.path.join(root, obj))\n",
    "    for scene in scene_list:\n",
    "        data_list = os.listdir(os.path.join(root, obj, scene))\n",
    "        for data in data_list:\n",
    "            if \"original\" in data:\n",
    "                original_path = os.path.join(root, obj, scene, data)\n",
    "                seg_name = data.split(\"original\")\n",
    "                seg_name = seg_name[0] + \"seg\" + seg_name[1]\n",
    "                seg_path = os.path.join(root, obj, scene, seg_name)\n",
    "                box_path = os.path.join(box_root, box_type, scene, data)\n",
    "                # copyfile(src, dst)\n",
    "                copyfile(original_path, os.path.join(fcn_root, \"image\", obj+\"_\"+scene+\"_\"+data))\n",
    "                copyfile(seg_path, os.path.join(fcn_root, \"seg\", obj+\"_\"+scene+\"_\"+seg_name))\n",
    "                copyfile(box_path, os.path.join(fcn_root, \"box\", obj+\"_\"+scene+\"_\"+data))\n",
    "                if box_type is None:\n",
    "                    print('0')\n",
    "                if not os.path.isfile(original_path):\n",
    "                    print('1')\n",
    "                if not os.path.isfile(seg_path):\n",
    "                    print('2')\n",
    "                if not os.path.isfile(box_path):\n",
    "                    print('3')"
   ]
  },
  {
   "cell_type": "code",
   "execution_count": 4,
   "metadata": {},
   "outputs": [],
   "source": [
    "seg_root = \"/media/arg_ws3/5E703E3A703E18EB/data/mm_FCN/unity/seg/\"\n",
    "mask_root = \"/media/arg_ws3/5E703E3A703E18EB/data/mm_FCN/unity/mask/\"\n",
    "seg_list = os.listdir(seg_root)\n",
    "for seg in seg_list:\n",
    "    obj_class = seg.split('_Scene')[0]\n",
    "    if obj_class in obj_list:\n",
    "        class_idx = obj_list.index(obj_class) + 1\n",
    "        seg_path = os.path.join(seg_root, seg)\n",
    "        img = cv2.imread(seg_path)\n",
    "        img[img > 0] = class_idx\n",
    "        img = img[:,:,2]\n",
    "        cv2.imwrite(mask_root + seg, img)\n",
    "    else:\n",
    "        print('wrong')"
   ]
  },
  {
   "cell_type": "markdown",
   "metadata": {},
   "source": [
    "# Generate csv file"
   ]
  },
  {
   "cell_type": "code",
   "execution_count": 181,
   "metadata": {},
   "outputs": [],
   "source": [
    "image_root = \"/media/arg_ws3/5E703E3A703E18EB/data/mm_FCN/unity/image/\"\n",
    "mask_root = \"/media/arg_ws3/5E703E3A703E18EB/data/mm_FCN/unity/mask/\"\n",
    "image_list = os.listdir(image_root)\n",
    "random.shuffle(image_list)\n",
    "ratio = 0.9\n",
    "training_list = []\n",
    "test_list = []\n",
    "count = 0\n",
    "for image in image_list:\n",
    "    if count < len(image_list)*ratio:\n",
    "        training_list.append(image)\n",
    "    else:\n",
    "        test_list.append(image)\n",
    "    count = count + 1"
   ]
  },
  {
   "cell_type": "code",
   "execution_count": 182,
   "metadata": {},
   "outputs": [],
   "source": [
    "with open(fcn_root + 'train.csv', 'w', newline='') as csvfile:\n",
    "    writer = csv.writer(csvfile)\n",
    "    for image in training_list:\n",
    "        mask_name = image.split(\"_original.png\")[0] + \"_seg.png\"\n",
    "        writer.writerow([\"image/\" + image, \"mask/\" + mask_name])\n",
    "with open(fcn_root + 'test.csv', 'w', newline='') as csvfile:\n",
    "    writer = csv.writer(csvfile)\n",
    "    for image in test_list:\n",
    "        mask_name = image.split(\"_original.png\")[0] + \"_seg.png\"\n",
    "        writer.writerow([\"image/\" + image, \"mask/\" + mask_name])"
   ]
  }
 ],
 "metadata": {
  "kernelspec": {
   "display_name": "Python 3",
   "language": "python",
   "name": "python3"
  },
  "language_info": {
   "codemirror_mode": {
    "name": "ipython",
    "version": 3
   },
   "file_extension": ".py",
   "mimetype": "text/x-python",
   "name": "python",
   "nbconvert_exporter": "python",
   "pygments_lexer": "ipython3",
   "version": "3.5.2"
  }
 },
 "nbformat": 4,
 "nbformat_minor": 2
}
