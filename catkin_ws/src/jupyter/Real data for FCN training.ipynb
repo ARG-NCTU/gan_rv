{
 "cells": [
  {
   "cell_type": "code",
   "execution_count": 1,
   "metadata": {},
   "outputs": [],
   "source": [
    "import os\n",
    "import cv2\n",
    "from shutil import copyfile\n",
    "import matplotlib.pyplot as plt\n",
    "import csv\n",
    "import random"
   ]
  },
  {
   "cell_type": "code",
   "execution_count": 2,
   "metadata": {},
   "outputs": [],
   "source": [
    "img_root = \"/media/arg_ws3/5E703E3A703E18EB/data/MM_real_data/img/\"\n",
    "seg_root = \"/media/arg_ws3/5E703E3A703E18EB/data/MM_real_data/obj_mask/\"\n",
    "fcn_root = \"/media/arg_ws3/5E703E3A703E18EB/data/mm_FCN/real/\"\n",
    "obj_list = os.listdir(img_root)"
   ]
  },
  {
   "cell_type": "code",
   "execution_count": 3,
   "metadata": {},
   "outputs": [
    {
     "data": {
      "text/plain": [
       "['3m',\n",
       " 'andes',\n",
       " 'cocacola',\n",
       " 'crayola',\n",
       " 'folgers',\n",
       " 'heineken',\n",
       " 'hunts',\n",
       " 'kellogg',\n",
       " 'kleenex',\n",
       " 'kotex',\n",
       " 'libava',\n",
       " 'macadamia',\n",
       " 'milo',\n",
       " 'mm',\n",
       " 'pocky',\n",
       " 'raisins',\n",
       " 'stax',\n",
       " 'swissmiss',\n",
       " 'vanish',\n",
       " 'viva']"
      ]
     },
     "execution_count": 3,
     "metadata": {},
     "output_type": "execute_result"
    }
   ],
   "source": [
    "os.listdir(img_root)"
   ]
  },
  {
   "cell_type": "code",
   "execution_count": 4,
   "metadata": {},
   "outputs": [
    {
     "name": "stdout",
     "output_type": "stream",
     "text": [
      "3m\n",
      "andes\n",
      "cocacola\n",
      "crayola\n",
      "folgers\n",
      "heineken\n",
      "hunts\n",
      "kellogg\n",
      "kleenex\n",
      "kotex\n",
      "libava\n",
      "macadamia\n",
      "milo\n",
      "mm\n",
      "pocky\n",
      "raisins\n",
      "stax\n",
      "swissmiss\n",
      "vanish\n",
      "viva\n"
     ]
    }
   ],
   "source": [
    "for obj in obj_list:\n",
    "    print(obj)\n",
    "    scene_list = os.listdir(os.path.join(img_root, obj))\n",
    "    for scene in scene_list:\n",
    "        data_list = os.listdir(os.path.join(img_root, obj, scene))\n",
    "        for data in data_list:\n",
    "            if \".jpg\" in data:\n",
    "                img_path = os.path.join(img_root, obj, scene, data)\n",
    "                seg_name = data.split(\".jpg\")\n",
    "                seg_name = seg_name[0] + \".png\"\n",
    "                seg_path = os.path.join(seg_root, obj, scene, seg_name)\n",
    "                # copyfile(src, dst)\n",
    "                #if not os.path.isfile(img_path):\n",
    "                #    print('1')\n",
    "                if not os.path.isfile(seg_path):\n",
    "                    seg_name = data\n",
    "                    seg_path = os.path.join(seg_root, obj, scene, seg_name)\n",
    "                    if not os.path.isfile(seg_path):\n",
    "                        print(\"WTF, someting wrong!!!!\")\n",
    "                        continue\n",
    "                copyfile(img_path, os.path.join(fcn_root, \"image\", obj+\"_\"+scene+\"_\"+data))\n",
    "                copyfile(seg_path, os.path.join(fcn_root, \"seg\", obj+\"_\"+scene+\"_\"+seg_name))"
   ]
  },
  {
   "cell_type": "code",
   "execution_count": 15,
   "metadata": {},
   "outputs": [],
   "source": [
    "seg_root = \"/media/arg_ws3/5E703E3A703E18EB/data/mm_FCN/real/seg/\"\n",
    "mask_root = \"/media/arg_ws3/5E703E3A703E18EB/data/mm_FCN/real/mask/\"\n",
    "seg_list = os.listdir(seg_root)\n",
    "for seg in seg_list:\n",
    "    obj_class = seg.split('_scene')[0]\n",
    "    mask_name = seg.split('.')[0] + '.png'\n",
    "    if obj_class in obj_list:\n",
    "        class_idx = obj_list.index(obj_class) + 1\n",
    "        seg_path = os.path.join(seg_root, seg)\n",
    "        img = cv2.imread(seg_path, cv2.IMREAD_UNCHANGED)\n",
    "        img[img > 0] = class_idx\n",
    "        if len(img.shape)==3:\n",
    "            img = img[:,:,2]\n",
    "        cv2.imwrite(mask_root + mask_name, img)\n",
    "    else:\n",
    "        print('wrong')"
   ]
  },
  {
   "cell_type": "markdown",
   "metadata": {},
   "source": [
    "# Generate csv file"
   ]
  },
  {
   "cell_type": "code",
   "execution_count": 16,
   "metadata": {},
   "outputs": [],
   "source": [
    "image_root = \"/media/arg_ws3/5E703E3A703E18EB/data/mm_FCN/real/image/\"\n",
    "mask_root = \"/media/arg_ws3/5E703E3A703E18EB/data/mm_FCN/real/mask/\"\n",
    "image_list = os.listdir(image_root)\n",
    "random.shuffle(image_list)\n",
    "ratio = 0.9\n",
    "training_list = []\n",
    "test_list = []\n",
    "count = 0\n",
    "for image in image_list:\n",
    "    if count < len(image_list)*ratio:\n",
    "        training_list.append(image)\n",
    "    else:\n",
    "        test_list.append(image)\n",
    "    count = count + 1"
   ]
  },
  {
   "cell_type": "code",
   "execution_count": 17,
   "metadata": {},
   "outputs": [],
   "source": [
    "with open(fcn_root + 'train.csv', 'w', newline='') as csvfile:\n",
    "    writer = csv.writer(csvfile)\n",
    "    for image in training_list:\n",
    "        mask_name = image.split(\".jpg\")[0] + \".png\"\n",
    "        writer.writerow([\"image/\" + image, \"mask/\" + mask_name])\n",
    "with open(fcn_root + 'test.csv', 'w', newline='') as csvfile:\n",
    "    writer = csv.writer(csvfile)\n",
    "    for image in test_list:\n",
    "        mask_name = image.split(\".jpg\")[0] + \".png\"\n",
    "        writer.writerow([\"image/\" + image, \"mask/\" + mask_name])"
   ]
  }
 ],
 "metadata": {
  "kernelspec": {
   "display_name": "Python 3",
   "language": "python",
   "name": "python3"
  },
  "language_info": {
   "codemirror_mode": {
    "name": "ipython",
    "version": 3
   },
   "file_extension": ".py",
   "mimetype": "text/x-python",
   "name": "python",
   "nbconvert_exporter": "python",
   "pygments_lexer": "ipython3",
   "version": "3.5.2"
  }
 },
 "nbformat": 4,
 "nbformat_minor": 2
}
