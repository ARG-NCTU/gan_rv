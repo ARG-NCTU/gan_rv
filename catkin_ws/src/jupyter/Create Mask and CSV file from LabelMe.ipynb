{
 "cells": [
  {
   "cell_type": "code",
   "execution_count": 1,
   "metadata": {},
   "outputs": [],
   "source": [
    "import numpy as np\n",
    "import os\n",
    "import cv2\n",
    "import csv\n",
    "import xmltodict\n",
    "import matplotlib.pyplot as plt\n",
    "import random"
   ]
  },
  {
   "cell_type": "code",
   "execution_count": 2,
   "metadata": {},
   "outputs": [],
   "source": [
    "WIDTH = 640\n",
    "HEIGHT = 480\n",
    "\n",
    "#product_list = set(['extinguisher', 'backpack', 'drill'])\n",
    "product_list = set(['barcode'])"
   ]
  },
  {
   "cell_type": "markdown",
   "metadata": {},
   "source": [
    "## Create Mask from XML File"
   ]
  },
  {
   "cell_type": "code",
   "execution_count": 3,
   "metadata": {},
   "outputs": [],
   "source": [
    "def xml2mask(xml_path):\n",
    "    \"\"\"Convert xml file to a label image\n",
    "    Read a xml file, and generate a gray image.\n",
    "    There are only three different values in a image:\n",
    "    255: object\n",
    "    128: barcode\n",
    "    0: background\n",
    "    Args:\n",
    "        xml_path: xml path\n",
    "    Returns:\n",
    "        1-channel lable image\n",
    "    \"\"\"\n",
    "    global product_list\n",
    "    file_exist = os.path.isfile(xml_path)    # True\n",
    "    mask = np.zeros([HEIGHT, WIDTH], dtype = np.uint8)\n",
    "    if file_exist:\n",
    "        # print xml_path\n",
    "        with open(xml_path) as fd:\n",
    "            label_dict = xmltodict.parse(fd.read())\n",
    "\n",
    "    else:\n",
    "        print (\"This path doesn't exist\")\n",
    "        # print xml_path\n",
    "        return mask\n",
    "    if 'object' in label_dict['annotation']:\n",
    "        if type(label_dict['annotation']['object']).__name__ != \"list\":\n",
    "            try:\n",
    "                object_ = label_dict['annotation']['object']\n",
    "                '''if object_['name'] == \"extinguisher\" and object_['deleted'] == '0':\n",
    "                    poly_vertice = []\n",
    "                    for pts_idx in object_['polygon']['pt']:\n",
    "                        poly_vertice.append([int(pts_idx['x']), int(pts_idx['y'])])\n",
    "                    poly_vertice = np.array(poly_vertice, np.int32)\n",
    "                    cv2.fillConvexPoly(mask, poly_vertice, 1)\n",
    "                if object_['name'] == \"backpack\" and object_['deleted'] == '0':\n",
    "                    poly_vertice = []\n",
    "                    for pts_idx in object_['polygon']['pt']:\n",
    "                        poly_vertice.append([int(pts_idx['x']), int(pts_idx['y'])])\n",
    "                    poly_vertice = np.array(poly_vertice, np.int32)\n",
    "                    cv2.fillConvexPoly(mask, poly_vertice, 2)\n",
    "                if object_['name'] == \"drill\" and object_['deleted'] == '0':\n",
    "                    poly_vertice = []\n",
    "                    for pts_idx in object_['polygon']['pt']:\n",
    "                        poly_vertice.append([int(pts_idx['x']), int(pts_idx['y'])])\n",
    "                    poly_vertice = np.array(poly_vertice, np.int32)\n",
    "                    cv2.fillConvexPoly(mask, poly_vertice, 3)'''\n",
    "                if object_['name'] == \"barcode\" and object_['deleted'] == '0':\n",
    "                    poly_vertice = []\n",
    "                    for pts_idx in object_['polygon']['pt']:\n",
    "                        poly_vertice.append([int(pts_idx['x']), int(pts_idx['y'])])\n",
    "                    poly_vertice = np.array(poly_vertice, np.int32)\n",
    "                    cv2.fillConvexPoly(mask, poly_vertice, 3)\n",
    "            except Exception as e:\n",
    "                print (e)\n",
    "        else:\n",
    "            try:\n",
    "                for object_ in label_dict['annotation']['object']:\n",
    "                    # print (object_['name'])\n",
    "                    '''if object_['name'] == \"extinguisher\" and object_['deleted'] == '0':\n",
    "                        poly_vertice = []\n",
    "                        for pts_idx in object_['polygon']['pt']:\n",
    "                            poly_vertice.append([int(pts_idx['x']), int(pts_idx['y'])])\n",
    "                        poly_vertice = np.array(poly_vertice, np.int32)\n",
    "                        cv2.fillConvexPoly(mask, poly_vertice, 1)\n",
    "                    if object_['name'] == \"backpack\" and object_['deleted'] == '0':\n",
    "                        poly_vertice = []\n",
    "                        for pts_idx in object_['polygon']['pt']:\n",
    "                            poly_vertice.append([int(pts_idx['x']), int(pts_idx['y'])])\n",
    "                        poly_vertice = np.array(poly_vertice, np.int32)\n",
    "                        cv2.fillConvexPoly(mask, poly_vertice, 2)\n",
    "                    if object_['name'] == \"drill\" and object_['deleted'] == '0':\n",
    "                        poly_vertice = []\n",
    "                        for pts_idx in object_['polygon']['pt']:\n",
    "                            poly_vertice.append([int(pts_idx['x']), int(pts_idx['y'])])\n",
    "                        poly_vertice = np.array(poly_vertice, np.int32)\n",
    "                        cv2.fillConvexPoly(mask, poly_vertice, 3)'''\n",
    "                    if object_['name'] == \"barcode\" and object_['deleted'] == '0':\n",
    "                        poly_vertice = []\n",
    "                        for pts_idx in object_['polygon']['pt']:\n",
    "                            poly_vertice.append([int(pts_idx['x']), int(pts_idx['y'])])\n",
    "                        poly_vertice = np.array(poly_vertice, np.int32)\n",
    "                        cv2.fillConvexPoly(mask, poly_vertice, 1)\n",
    "            except Exception as e:\n",
    "                print (e)\n",
    "    return mask"
   ]
  },
  {
   "cell_type": "markdown",
   "metadata": {},
   "source": [
    "## Generate Mask"
   ]
  },
  {
   "cell_type": "markdown",
   "metadata": {},
   "source": [
    "### For SubT dataset"
   ]
  },
  {
   "cell_type": "code",
   "execution_count": 4,
   "metadata": {},
   "outputs": [],
   "source": [
    "datapath = \"/media/arg_ws3/5E703E3A703E18EB/data/subt_tunnel_hsinchu/\"\n",
    "bags = ['bag1', 'bag2', 'bag3']\n",
    "file_list = []\n",
    "for bag in bags:\n",
    "    path = os.path.join(datapath, bag, 'Annotations')\n",
    "\n",
    "    for (dirpath, dirnames, filenames) in os.walk(path):\n",
    "        #print(filenames)\n",
    "        for filename in filenames:\n",
    "            mask_dir = dirpath.replace(\"Annotations\", \"Masks\")\n",
    "            if not os.path.exists(mask_dir):\n",
    "                os.makedirs(mask_dir)\n",
    "            mask_name = filename.split(\".\")[0] + \".png\"\n",
    "            img_path = os.path.join(dirpath, filename)\n",
    "            mask_path = os.path.join(mask_dir, mask_name)\n",
    "            mask = xml2mask(img_path)\n",
    "            cv2.imwrite(mask_path, mask,[int(cv2.IMWRITE_JPEG_QUALITY), 100])\n",
    "            file_list.append([img_path[len(datapath):], mask_path[len(datapath):]])"
   ]
  },
  {
   "cell_type": "markdown",
   "metadata": {},
   "source": [
    "### For MM barcode dataset (UNDO)"
   ]
  },
  {
   "cell_type": "code",
   "execution_count": null,
   "metadata": {},
   "outputs": [],
   "source": [
    "datapath = \"/media/arg_ws3/5E703E3A703E18EB/data/mm_barcode/\"\n",
    "bags = ['Images']\n",
    "file_list = []\n",
    "for bag in bags:\n",
    "    path = os.path.join(datapath, bag, 'Annotations')\n",
    "\n",
    "    for (dirpath, dirnames, filenames) in os.walk(path):\n",
    "        #print(filenames)\n",
    "        for filename in filenames:\n",
    "            mask_dir = dirpath.replace(\"Annotations\", \"Masks\")\n",
    "            if not os.path.exists(mask_dir):\n",
    "                os.makedirs(mask_dir)\n",
    "            mask_name = filename.split(\".\")[0] + \".png\"\n",
    "            img_path = os.path.join(dirpath, filename)\n",
    "            mask_path = os.path.join(mask_dir, mask_name)\n",
    "            #mask = xml2mask(img_path)\n",
    "            #cv2.imwrite(mask_path, mask,[int(cv2.IMWRITE_JPEG_QUALITY), 100])\n",
    "            file_list.append([img_path[len(datapath):], mask_path[len(datapath):]])"
   ]
  },
  {
   "cell_type": "markdown",
   "metadata": {},
   "source": [
    "## Generate CSV file"
   ]
  },
  {
   "cell_type": "code",
   "execution_count": 14,
   "metadata": {},
   "outputs": [],
   "source": [
    "with open(datapath + 'test.csv', 'w', newline='') as csvfile:\n",
    "    writer = csv.writer(csvfile)\n",
    "    for file in file_list:\n",
    "        jpg_file = file[0].replace(\"Annotations\", \"Images\").replace(\".xml\", \".jpg\")\n",
    "        writer.writerow([jpg_file, file[1]])"
   ]
  }
 ],
 "metadata": {
  "kernelspec": {
   "display_name": "Python 3",
   "language": "python",
   "name": "python3"
  },
  "language_info": {
   "codemirror_mode": {
    "name": "ipython",
    "version": 3
   },
   "file_extension": ".py",
   "mimetype": "text/x-python",
   "name": "python",
   "nbconvert_exporter": "python",
   "pygments_lexer": "ipython3",
   "version": "3.5.2"
  }
 },
 "nbformat": 4,
 "nbformat_minor": 2
}
