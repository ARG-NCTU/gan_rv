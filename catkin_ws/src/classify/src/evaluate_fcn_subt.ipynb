{
 "cells": [
  {
   "cell_type": "code",
   "execution_count": 1,
   "metadata": {},
   "outputs": [],
   "source": [
    "import numpy as np\n",
    "import cv2\n",
    "import struct\n",
    "import math\n",
    "import time\n",
    "import os\n",
    "import math\n",
    "import time\n",
    "import sys\n",
    "import PIL\n",
    "from models import *\n",
    "import torchvision.transforms as transforms\n",
    "from torch.autograd import Variable\n",
    "#from models import *\n",
    "import torch.nn as nn\n",
    "import torch.nn.functional as F\n",
    "import torch\n",
    "\n",
    "from torchvision import models\n",
    "from torchvision.models.vgg import VGG\n",
    "\n",
    "import matplotlib.pyplot as plt\n",
    "from sklearn.metrics import confusion_matrix\n",
    "import pandas as pd\n",
    "import scipy.misc\n",
    "import random\n",
    "import sys"
   ]
  },
  {
   "cell_type": "code",
   "execution_count": 2,
   "metadata": {},
   "outputs": [],
   "source": [
    "class FCN16s(nn.Module):\n",
    "\n",
    "    def __init__(self, pretrained_net, n_class):\n",
    "        super().__init__()\n",
    "        self.n_class = n_class\n",
    "        self.pretrained_net = pretrained_net\n",
    "        self.relu    = nn.ReLU(inplace = True)\n",
    "        self.deconv1 = nn.ConvTranspose2d(512, 512, kernel_size=3, stride=2, padding=1, dilation=1, output_padding=1)\n",
    "        self.bn1     = nn.BatchNorm2d(512)\n",
    "        self.deconv2 = nn.ConvTranspose2d(512, 256, kernel_size=3, stride=2, padding=1, dilation=1, output_padding=1)\n",
    "        self.bn2     = nn.BatchNorm2d(256)\n",
    "        self.deconv3 = nn.ConvTranspose2d(256, 128, kernel_size=3, stride=2, padding=1, dilation=1, output_padding=1)\n",
    "        self.bn3     = nn.BatchNorm2d(128)\n",
    "        self.deconv4 = nn.ConvTranspose2d(128, 64, kernel_size=3, stride=2, padding=1, dilation=1, output_padding=1)\n",
    "        self.bn4     = nn.BatchNorm2d(64)\n",
    "        self.deconv5 = nn.ConvTranspose2d(64, 32, kernel_size=3, stride=2, padding=1, dilation=1, output_padding=1)\n",
    "        self.bn5     = nn.BatchNorm2d(32)\n",
    "        self.classifier = nn.Conv2d(32, n_class, kernel_size=1)\n",
    "\n",
    "    def forward(self, x):\n",
    "        output = self.pretrained_net(x)\n",
    "        x5 = output['x5']  # size=(N, 512, x.H/32, x.W/32)\n",
    "        x4 = output['x4']  # size=(N, 512, x.H/16, x.W/16)\n",
    "\n",
    "        score = self.relu(self.deconv1(x5))               # size=(N, 512, x.H/16, x.W/16)\n",
    "        score = self.bn1(score + x4)                      # element-wise add, size=(N, 512, x.H/16, x.W/16)\n",
    "        score = self.bn2(self.relu(self.deconv2(score)))  # size=(N, 256, x.H/8, x.W/8)\n",
    "        score = self.bn3(self.relu(self.deconv3(score)))  # size=(N, 128, x.H/4, x.W/4)\n",
    "        score = self.bn4(self.relu(self.deconv4(score)))  # size=(N, 64, x.H/2, x.W/2)\n",
    "        score = self.bn5(self.relu(self.deconv5(score)))  # size=(N, 32, x.H, x.W)\n",
    "        score = self.classifier(score)                    # size=(N, n_class, x.H/1, x.W/1)\n",
    "        \n",
    "        return score\n",
    "\n",
    "class VGGNet(VGG):\n",
    "    def __init__(self, pretrained=True, model='vgg16', requires_grad=True, remove_fc=True, show_params=False):\n",
    "        super().__init__(make_layers(cfg[model]))\n",
    "        self.ranges = ranges[model]\n",
    "\n",
    "        if pretrained:\n",
    "            exec(\"self.load_state_dict(models.%s(pretrained=True).state_dict())\" % model)\n",
    "\n",
    "        if not requires_grad:\n",
    "            for param in super().parameters():\n",
    "                param.requires_grad = False\n",
    "\n",
    "        if remove_fc:  # delete redundant fully-connected layer params, can save memory\n",
    "            del self.classifier\n",
    "\n",
    "        if show_params:\n",
    "            for name, param in self.named_parameters():\n",
    "                print(name, param.size())\n",
    "\n",
    "    def forward(self, x):\n",
    "        output = {}\n",
    "\n",
    "        # get the output of each maxpooling layer (5 maxpool in VGG net)\n",
    "        for idx in range(len(self.ranges)):\n",
    "            for layer in range(self.ranges[idx][0], self.ranges[idx][1]):      \n",
    "                x = self.features[layer](x)\n",
    "            output[\"x%d\"%(idx+1)] = x\n",
    "        return output\n",
    "    \n",
    "ranges = {\n",
    "    'vgg11': ((0, 3), (3, 6),  (6, 11),  (11, 16), (16, 21)),\n",
    "    'vgg13': ((0, 5), (5, 10), (10, 15), (15, 20), (20, 25)),\n",
    "    'vgg16': ((0, 5), (5, 10), (10, 17), (17, 24), (24, 31)),\n",
    "    'vgg19': ((0, 5), (5, 10), (10, 19), (19, 28), (28, 37))\n",
    "}\n",
    "\n",
    "# cropped version from https://github.com/pytorch/vision/blob/master/torchvision/models/vgg.py\n",
    "cfg = {\n",
    "    'vgg11': [64, 'M', 128, 'M', 256, 256, 'M', 512, 512, 'M', 512, 512, 'M'],\n",
    "    'vgg13': [64, 64, 'M', 128, 128, 'M', 256, 256, 'M', 512, 512, 'M', 512, 512, 'M'],\n",
    "    'vgg16': [64, 64, 'M', 128, 128, 'M', 256, 256, 256, 'M', 512, 512, 512, 'M', 512, 512, 512, 'M'],\n",
    "    'vgg19': [64, 64, 'M', 128, 128, 'M', 256, 256, 256, 256, 'M', 512, 512, 512, 512, 'M', 512, 512, 512, 512, 'M'],\n",
    "}\n",
    "\n",
    "def make_layers(cfg, batch_norm=False):\n",
    "    layers = []\n",
    "    in_channels = 3\n",
    "    for v in cfg:\n",
    "        if v == 'M':\n",
    "            layers += [nn.MaxPool2d(kernel_size=2, stride=2)]\n",
    "        else:\n",
    "            conv2d = nn.Conv2d(in_channels, v, kernel_size=3, padding=1)\n",
    "            if batch_norm:\n",
    "                layers += [conv2d, nn.BatchNorm2d(v), nn.ReLU(inplace=True)]\n",
    "            else:\n",
    "                layers += [conv2d, nn.ReLU(inplace=True)]\n",
    "            in_channels = v\n",
    "    return nn.Sequential(*layers)"
   ]
  },
  {
   "cell_type": "code",
   "execution_count": 52,
   "metadata": {},
   "outputs": [
    {
     "name": "stdout",
     "output_type": "stream",
     "text": [
      "Finish cuda loading, time elapsed 0.01798415184020996\n"
     ]
    }
   ],
   "source": [
    "means = np.array([103.939, 116.779, 123.68]) / 255. # mean of three channels in the order of BGR\n",
    "h, w  = 480, 640\n",
    "n_class = 4\n",
    "model_dir = \"/media/arg_ws3/5E703E3A703E18EB/research/subt_fcn/models/fcn\"   # \n",
    "#model_name = \"FCNs_batch12_epoch32_RMSprop_lr0.0001.pkl\"\n",
    "model_name = \"FCNs_batch12_epoch40_RMSprop_lr0.0001.pkl\"\n",
    "vgg_model = VGGNet(cfg, requires_grad=True, remove_fc=True)\n",
    "fcn_model = FCN16s(pretrained_net=vgg_model, n_class=n_class)\n",
    "\n",
    "use_gpu = torch.cuda.is_available()\n",
    "num_gpu = list(range(torch.cuda.device_count()))\n",
    "\n",
    "if use_gpu:\n",
    "    ts = time.time()\n",
    "    vgg_model = vgg_model.cuda()\n",
    "    fcn_model = fcn_model.cuda()\n",
    "    fcn_model = nn.DataParallel(fcn_model, device_ids=num_gpu)\n",
    "    print(\"Finish cuda loading, time elapsed {}\".format(time.time() - ts))\n",
    "state_dict = torch.load(os.path.join(model_dir, model_name))\n",
    "fcn_model.load_state_dict(state_dict)\n",
    "\n",
    "mask1 = np.zeros((h, w))\n",
    "MAXAREA = 18000\n",
    "MINAREA = 1000"
   ]
  },
  {
   "cell_type": "code",
   "execution_count": 53,
   "metadata": {},
   "outputs": [],
   "source": [
    "means     = np.array([103.939, 116.779, 123.68]) / 255. # mean of three channels in the order of BGR\n",
    "h, w      = 480, 640\n",
    "val_h     = h\n",
    "val_w     = w"
   ]
  },
  {
   "cell_type": "code",
   "execution_count": 96,
   "metadata": {},
   "outputs": [],
   "source": [
    "def predict(img_):\n",
    "    img = img_[:, :, ::-1]  # switch to BGR\n",
    "        \n",
    "    img = np.transpose(img, (2, 0, 1)) / 255.\n",
    "    img[0] -= means[0]\n",
    "    img[1] -= means[1]\n",
    "    img[2] -= means[2]\n",
    "\n",
    "    # convert to tensor\n",
    "    img = torch.from_numpy(img.copy()).float()\n",
    "    img = img.unsqueeze(0)\n",
    "    #print(img)\n",
    "    \n",
    "    output = fcn_model(img.cuda())\n",
    "    output = output.data.cpu().numpy()\n",
    "\n",
    "    N, _, h, w = output.shape\n",
    "    pred = output.transpose(0, 2, 3, 1).reshape(-1, n_class).argmax(axis = 1).reshape(N, h, w)\n",
    "    #print(pred.shape, N)\n",
    "    pred_img = np.zeros((pred[0].shape[0], pred[0].shape[1]), np.uint8)\n",
    "    for i in range(pred[0].shape[0]):\n",
    "        for j in range(pred[0].shape[1]):\n",
    "            if pred[0][i][j] == 1: #extinguisher\n",
    "                pred_img[i][j] = 1\n",
    "            elif pred[0][i][j] == 2: #drill\n",
    "                pred_img[i][j] = 3\n",
    "            elif pred[0][i][j] == 3: #backpack\n",
    "                pred_img[i][j] = 2\n",
    "    return pred_img"
   ]
  },
  {
   "cell_type": "code",
   "execution_count": 153,
   "metadata": {},
   "outputs": [
    {
     "name": "stdout",
     "output_type": "stream",
     "text": [
      "(480, 640)\n"
     ]
    },
    {
     "data": {
      "image/png": "[encoded data removed]",
      "text/plain": [
       "<Figure size 432x288 with 2 Axes>"
      ]
     },
     "metadata": {
      "needs_background": "light"
     },
     "output_type": "display_data"
    }
   ],
   "source": [
    "cv_image = cv2.imread(\"/media/arg_ws3/5E703E3A703E18EB/data/subt_tunnel_hsinchu/bag3/Images/users/andyser/subt_real/evl_data/bag3/5.jpg\", cv2.IMREAD_UNCHANGED)\n",
    "pred = predict(cv_image)\n",
    "print(pred.shape)\n",
    "plt.subplot(1, 2, 1)\n",
    "plt.title(\"origin_img\")\n",
    "plt.imshow(cv_image[:, :, ::-1]) #RGB2BGR\n",
    "#print(img.shape, pred[0].shape)\n",
    "#print(np.unique(_img[i]))\n",
    "\n",
    "plt.subplot(1, 2, 2)\n",
    "plt.title(\"prediction\")\n",
    "plt.imshow(pred,cmap = \"brg\",vmin = 0, vmax = n_class - 1)\n",
    "\n",
    "plt.show()\n",
    "#generate_img = predict(cv_image)"
   ]
  },
  {
   "cell_type": "code",
   "execution_count": 154,
   "metadata": {},
   "outputs": [
    {
     "data": {
      "text/plain": [
       "True"
      ]
     },
     "execution_count": 154,
     "metadata": {},
     "output_type": "execute_result"
    }
   ],
   "source": [
    "#im = np.ones((480, 640, 3))*100\n",
    "im = np.zeros((480, 640, 3))\n",
    "for i in range(pred.shape[0]):\n",
    "    for j in range(pred.shape[1]):\n",
    "        if pred[i][j] == 1:\n",
    "            im[i][j][0] = 255\n",
    "        elif pred[i][j] == 2:\n",
    "            im[i][j][1] = 255\n",
    "        elif pred[i][j] == 3:\n",
    "            im[i][j][2] = 255\n",
    "cv2.imwrite(\"pred.jpg\", im)\n",
    "cv2.imwrite(\"orig.jpg\", cv_image)"
   ]
  },
  {
   "cell_type": "markdown",
   "metadata": {},
   "source": [
    "extinguisher: 1\n",
    "\n",
    "drill: 3\n",
    "\n",
    "backpack: 2"
   ]
  },
  {
   "cell_type": "code",
   "execution_count": 100,
   "metadata": {},
   "outputs": [],
   "source": [
    "def analysis(pred, target, h, w):\n",
    "    # TP, FN, FP, TN\n",
    "    TP = np.zeros(n_class, dtype = np.float128)\n",
    "    FN = np.zeros(n_class, dtype = np.float128)\n",
    "    FP = np.zeros(n_class, dtype = np.float128)\n",
    "\n",
    "    target = target.reshape(h * w)\n",
    "    pred = pred.reshape(h * w)\n",
    "    \n",
    "    con_matrix = confusion_matrix(target, pred,labels = np.arange(0,n_class,1))\n",
    "    con_matrix[0][0] = 0\n",
    "    for i in range(0, n_class):\n",
    "        for j in range(0, n_class):\n",
    "            if i == j:\n",
    "                TP[i] += con_matrix[i][j]\n",
    "            if i != j:\n",
    "                FP[j] += con_matrix[i][j]\n",
    "                FN[i] += con_matrix[i][j]\n",
    "    return TP, FN, FP\n",
    "                \n",
    "def pixel_acc(pred, target):\n",
    "    correct = (pred == target).sum()\n",
    "    total   = (target == target).sum()\n",
    "    return correct / total"
   ]
  },
  {
   "cell_type": "code",
   "execution_count": 104,
   "metadata": {},
   "outputs": [],
   "source": [
    "def val(data_dir, score_dir, name, val_txt):\n",
    "    #score_dir = \"/media/arg_ws3/5E703E3A703E18EB/research/subt_fcn/scores/gan_ssd_622\"\n",
    "    if not os.path.exists(score_dir):\n",
    "        os.makedirs(score_dir)\n",
    "    TP = np.zeros(n_class-1, dtype = np.float128)\n",
    "    FN = np.zeros(n_class-1, dtype = np.float128)\n",
    "    FP = np.zeros(n_class-1, dtype = np.float128)\n",
    "    total_ious = []\n",
    "    pixel_accs = []\n",
    "    data_list = []\n",
    "    \n",
    "    csv_data = pd.read_csv(val_txt)\n",
    "    for idx in range(len(csv_data)):\n",
    "        img_name = csv_data.iloc[idx, 0]\n",
    "        label_name = csv_data.iloc[idx, 1]\n",
    "        input_img = cv2.imread(os.path.join(data_dir, img_name),cv2.IMREAD_UNCHANGED)\n",
    "        target = cv2.imread(os.path.join(data_dir, label_name), cv2.IMREAD_GRAYSCALE)\n",
    "        \n",
    "        pred = predict(input_img)\n",
    "\n",
    "        h, w = pred.shape\n",
    "\n",
    "        pixel_accs.append(pixel_acc(pred, target))\n",
    "        _TP, _FN, _FP =  analysis(pred, target, h, w)\n",
    "        TP += _TP[1:n_class]\n",
    "        FN += _FN[1:n_class]\n",
    "        FP += _FP[1:n_class]\n",
    "            \n",
    "    recall = TP / (TP + FN)\n",
    "    precision = TP / (TP + FP)\n",
    "    ious = TP / (TP + FN + FP)\n",
    "    fscore = 2*TP / (2*TP + FN + FP)\n",
    "    total_ious = np.array(total_ious).T  # n_class * val_len\n",
    "    pixel_accs = np.array(pixel_accs).mean()\n",
    "    \n",
    "    print(\"name: {}, pix_acc: {}, meanIoU: {}, IoUs: {}, recall: {}, precision: {}, fscore: {}\"\\\n",
    "          .format(name, pixel_accs, np.nanmean(ious), ious, recall, precision, fscore))\n",
    "    \n",
    "    f1 = open(score_dir + \"/cls_acc_log.txt\",\"a+\")\n",
    "    f1.write('name:'+ str(name) + ', pix_acc: ' + str(pixel_accs) + '\\n' )\n",
    "    f2 = open(score_dir + \"/cls_iou_log.txt\",\"a+\")\n",
    "    f2.write('name:'+ str(name) + ', class ious: ' + str(ious) + '\\n' )\n",
    "    f3 = open(score_dir + \"/mean_iou_log.txt\",\"a+\")\n",
    "    f3.write('name:'+ str(name) + ', mean IoU: ' + str(np.nanmean(ious)) + '\\n' ) \n",
    "    f4 = open(score_dir + \"/recall_log.txt\",\"a+\")\n",
    "    f4.write('name:'+ str(name) + ', class recall: ' + str(recall) + '\\n' )\n",
    "    f5 = open(score_dir + \"/precision_log.txt\",\"a+\")\n",
    "    f5.write('name:'+ str(name) + ', class precision: ' + str(precision) + '\\n' )    \n",
    "    f6 = open(score_dir + \"/fscore_log.txt\",\"a+\")\n",
    "    f6.write('name:'+ str(name) + ', class fscore: ' + str(fscore) + '\\n' )\n",
    "    f7 = open(score_dir + \"/mean_fscore_log.txt\",\"a+\")\n",
    "    f7.write('name:'+ str(name) + ', mean fscore: ' + str(np.nanmean(fscore)) + '\\n' )\n",
    "    f8 = open(score_dir + \"/mean_precision_log.txt\",\"a+\")\n",
    "    f8.write('name:'+ str(name) + ', mean precision: ' + str(np.nanmean(precision)) + '\\n' ) \n",
    "    f9 = open(score_dir + \"/mean_recall_log.txt\",\"a+\")\n",
    "    f9.write('name:'+ str(name) + ', mean recall: ' + str(np.nanmean(recall)) + '\\n' ) "
   ]
  },
  {
   "cell_type": "code",
   "execution_count": 105,
   "metadata": {},
   "outputs": [],
   "source": [
    "data_dir = '/media/arg_ws3/5E703E3A703E18EB/data/subt_tunnel_hsinchu/'\n",
    "val_txt = '/media/arg_ws3/5E703E3A703E18EB/data/subt_tunnel_hsinchu/test.csv'\n",
    "score_dir = \"/media/arg_ws3/5E703E3A703E18EB/research/subt_fcn/scores/fcn_18mnt\"\n",
    "name = 'fcn_18mnt'"
   ]
  },
  {
   "cell_type": "code",
   "execution_count": 106,
   "metadata": {},
   "outputs": [
    {
     "name": "stdout",
     "output_type": "stream",
     "text": [
      "name: fcn_18mnt, pix_acc: 0.9949975508432539, meanIoU: 0.49255617435284804, IoUs: [0.44868388 0.61980777 0.40917687], recall: [0.80566988 0.88832447 0.48950138], precision: [0.50313516 0.67218366 0.71375766], fscore: [0.61943656 0.76528559 0.58073174]\n"
     ]
    }
   ],
   "source": [
    "val(data_dir, score_dir, name, val_txt)"
   ]
  }
 ],
 "metadata": {
  "kernelspec": {
   "display_name": "Python 2",
   "language": "python",
   "name": "python2"
  },
  "language_info": {
   "codemirror_mode": {
    "name": "ipython",
    "version": 3
   },
   "file_extension": ".py",
   "mimetype": "text/x-python",
   "name": "python",
   "nbconvert_exporter": "python",
   "pygments_lexer": "ipython3",
   "version": "3.5.2"
  }
 },
 "nbformat": 4,
 "nbformat_minor": 2
}
