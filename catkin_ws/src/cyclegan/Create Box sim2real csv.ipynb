{
 "cells": [
  {
   "cell_type": "code",
   "execution_count": 2,
   "metadata": {},
   "outputs": [],
   "source": [
    "import csv\n",
    "import os\n",
    "import numpy as np\n",
    "import random"
   ]
  },
  {
   "cell_type": "code",
   "execution_count": 26,
   "metadata": {},
   "outputs": [],
   "source": [
    "root = \"/media/arg_ws3/5E703E3A703E18EB/data/mm_unity_new/\"\n",
    "real_root = os.path.join(root, \"real_boxes\")\n",
    "unity_root = os.path.join(root, \"unity_boxes\")"
   ]
  },
  {
   "cell_type": "markdown",
   "metadata": {},
   "source": [
    "## Create CSV"
   ]
  },
  {
   "cell_type": "code",
   "execution_count": 35,
   "metadata": {},
   "outputs": [],
   "source": [
    "def createCSV(path, name, ratio = 0.9):\n",
    "    data_list = []\n",
    "    training_list = []\n",
    "    test_list = []\n",
    "    count = 0\n",
    "        \n",
    "    for (dirpath, dirnames, filenames) in os.walk(path):\n",
    "        for filename in filenames:\n",
    "            if filename.endswith('.jpg') or filename.endswith('_original.png'): \n",
    "                data_list.append(os.path.join(dirpath[len(root):], filename))\n",
    "    random.shuffle(data_list)\n",
    "    \n",
    "    \n",
    "    for data in data_list:\n",
    "        if count < len(data_list)*ratio:\n",
    "            training_list.append(data)\n",
    "        else:\n",
    "            test_list.append(data)\n",
    "        count = count + 1\n",
    "        \n",
    "    with open(os.path.join(root, name + '_train.csv'), 'w', newline='') as csvfile:\n",
    "        writer = csv.writer(csvfile)\n",
    "        for item in training_list:\n",
    "            writer.writerow([item])\n",
    "    with open(os.path.join(root, name + '_test.csv'), 'w', newline='') as csvfile:\n",
    "        writer = csv.writer(csvfile)\n",
    "        for item in test_list:\n",
    "            writer.writerow([item])"
   ]
  },
  {
   "cell_type": "code",
   "execution_count": 36,
   "metadata": {},
   "outputs": [],
   "source": [
    "createCSV(real_root, \"real_boxes\")\n",
    "createCSV(unity_root, \"unity_boxes\")"
   ]
  },
  {
   "cell_type": "code",
   "execution_count": null,
   "metadata": {},
   "outputs": [],
   "source": []
  }
 ],
 "metadata": {
  "kernelspec": {
   "display_name": "Python 3",
   "language": "python",
   "name": "python3"
  },
  "language_info": {
   "codemirror_mode": {
    "name": "ipython",
    "version": 3
   },
   "file_extension": ".py",
   "mimetype": "text/x-python",
   "name": "python",
   "nbconvert_exporter": "python",
   "pygments_lexer": "ipython3",
   "version": "3.5.2"
  }
 },
 "nbformat": 4,
 "nbformat_minor": 2
}
